{
 "cells": [
  {
   "cell_type": "code",
   "execution_count": 67,
   "metadata": {
    "collapsed": false
   },
   "outputs": [],
   "source": [
    "############################################################################################\n",
    "################################ PARAMETERS INITIALIZATION #################################\n",
    "############################################################################################\n",
    "\n",
    "# initialize performance model parameters\n",
    "# !!!!!!!!!! ALL THE TIMES ARE IN MILLISECONDS !!!!!!!!!!\n",
    "input_file = \"example_input.txt\"\n",
    "output_file = \"example_output.txt\"\n",
    "key_extract_time = 0.00025\n",
    "usr_map_time = 74\n",
    "usr_reduce_time = 74\n",
    "seq_value = 813538\n",
    "\n",
    "# create a data frame for the output\n",
    "model_matrix_df = pd.DataFrame()\n",
    "\n",
    "# read the input file\n",
    "matrix = pandas.read_csv(input_file, sep='\\t')"
   ]
  },
  {
   "cell_type": "code",
   "execution_count": 68,
   "metadata": {
    "collapsed": true
   },
   "outputs": [],
   "source": [
    "#############################################################################\n",
    "################################ TOTAL TIME #################################\n",
    "#############################################################################\n",
    "\n",
    "time_readfile = matrix['FILE_READING_TIME']\n",
    "#print time_readfile, \"\\n\"\n",
    "\n",
    "time_maptaskgen = matrix['MAP_TASK_GEN_TIME']\n",
    "#print time_maptaskgen, \"\\n\"\n",
    "\n",
    "time_map = (matrix['NUM_RECORD'] / matrix['NUM_THREAD']) * (key_extract_time + usr_map_time)\n",
    "#print time_map, \"\\n\"\n",
    "\n",
    "time_localsort = matrix['LOCAL_SORT_AVGTIME']\n",
    "#print time_localsort, \"\\n\"\n",
    "\n",
    "time_kway = matrix['SORT_TIME']\t\n",
    "#print time_kway, \"\\n\"\n",
    "\n",
    "time_reducetaskgen = matrix['REDUCE_TASK_GEN_TIME']\t\n",
    "#print time_reducetaskgen, \"\\n\"\n",
    "\n",
    "time_reduce = ((numpy.log2(matrix['NUM_THREAD']) + 1) * matrix['INTERM_KEYS_GROUPS_REDUCER_MAXNUM']) * usr_reduce_time\n",
    "#print time_reduce, \"\\n\"\n",
    "\n",
    "# compute total time\n",
    "tot_model_time = time_readfile + time_maptaskgen + time_map + time_localsort + time_kway + time_reducetaskgen + time_reduce\n",
    "model_matrix_df['TOT_MODEL_TIME'] = tot_model_time"
   ]
  },
  {
   "cell_type": "code",
   "execution_count": 69,
   "metadata": {
    "collapsed": false
   },
   "outputs": [],
   "source": [
    "################################################\n",
    "############### SCALABILITY ####################\n",
    "################################################\n",
    "\n",
    "base_scalab_value = model_matrix_df['TOT_MODEL_TIME'][0]\n",
    "scalability = []\n",
    "\n",
    "for val in model_matrix_df['TOT_MODEL_TIME']:\n",
    "    scalability.append(base_scalab_value / val)\n",
    "        \n",
    "model_matrix_df['MODEL_SCALABILITY'] = scalability"
   ]
  },
  {
   "cell_type": "code",
   "execution_count": null,
   "metadata": {
    "collapsed": true
   },
   "outputs": [],
   "source": [
    "################################################\n",
    "################# SPEEDUP ######################\n",
    "################################################\n",
    "\n",
    "speedup = []\n",
    "\n",
    "for val in model_matrix_df['TOT_MODEL_TIME']:\n",
    "    speedup.append(seq_value / val)\n",
    "        \n",
    "model_matrix_df['MODEL_SPEEDUP'] = speedup"
   ]
  },
  {
   "cell_type": "code",
   "execution_count": null,
   "metadata": {
    "collapsed": true
   },
   "outputs": [],
   "source": [
    "# write the matrix into the output file\n",
    "model_matrix_df.to_csv(output_file, index=False)"
   ]
  }
 ],
 "metadata": {
  "kernelspec": {
   "display_name": "Python 2",
   "language": "python",
   "name": "python2"
  },
  "language_info": {
   "codemirror_mode": {
    "name": "ipython",
    "version": 2
   },
   "file_extension": ".py",
   "mimetype": "text/x-python",
   "name": "python",
   "nbconvert_exporter": "python",
   "pygments_lexer": "ipython2",
   "version": "2.7.11"
  }
 },
 "nbformat": 4,
 "nbformat_minor": 0
}
